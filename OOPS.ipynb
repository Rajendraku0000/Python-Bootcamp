{
 "cells": [
  {
   "cell_type": "code",
   "execution_count": 1,
   "id": "555125a2",
   "metadata": {},
   "outputs": [],
   "source": [
    "# Question diffrence between function vs method \n",
    "#  dunder function \n",
    "#  magic mathod \n",
    "#  magic method vs dundar function \n",
    "\n",
    "# type of contructor (defoult and peramerized )\n",
    "\n"
   ]
  },
  {
   "cell_type": "code",
   "execution_count": null,
   "id": "4d37f0ba",
   "metadata": {},
   "outputs": [],
   "source": []
  },
  {
   "cell_type": "code",
   "execution_count": 2,
   "id": "905568a3",
   "metadata": {},
   "outputs": [],
   "source": [
    "class rajendra():\n",
    "    b=50\n",
    "    def __init__(self,a):\n",
    "        self.a=a\n",
    "        print(\"it is done\",self.a)\n",
    "    "
   ]
  },
  {
   "cell_type": "code",
   "execution_count": 6,
   "id": "65a7419d",
   "metadata": {},
   "outputs": [
    {
     "name": "stdout",
     "output_type": "stream",
     "text": [
      "it is done 10\n",
      "it is done 100\n"
     ]
    }
   ],
   "source": [
    "j=rajendra(10)\n",
    "m=rajendra(100)"
   ]
  },
  {
   "cell_type": "code",
   "execution_count": 4,
   "id": "59c23731",
   "metadata": {},
   "outputs": [
    {
     "data": {
      "text/plain": [
       "10"
      ]
     },
     "execution_count": 4,
     "metadata": {},
     "output_type": "execute_result"
    }
   ],
   "source": [
    "j.a"
   ]
  },
  {
   "cell_type": "code",
   "execution_count": 5,
   "id": "478ec768",
   "metadata": {},
   "outputs": [
    {
     "data": {
      "text/plain": [
       "50"
      ]
     },
     "execution_count": 5,
     "metadata": {},
     "output_type": "execute_result"
    }
   ],
   "source": [
    "j.b"
   ]
  },
  {
   "cell_type": "code",
   "execution_count": 7,
   "id": "1ccec7d4",
   "metadata": {},
   "outputs": [
    {
     "name": "stdout",
     "output_type": "stream",
     "text": [
      "100\n",
      "50\n"
     ]
    }
   ],
   "source": [
    "print(m.a)\n",
    "print(m.b)"
   ]
  },
  {
   "cell_type": "code",
   "execution_count": 8,
   "id": "43414418",
   "metadata": {},
   "outputs": [
    {
     "ename": "AttributeError",
     "evalue": "type object 'rajendra' has no attribute 'a'",
     "output_type": "error",
     "traceback": [
      "\u001b[1;31m---------------------------------------------------------------------------\u001b[0m",
      "\u001b[1;31mAttributeError\u001b[0m                            Traceback (most recent call last)",
      "Cell \u001b[1;32mIn[8], line 1\u001b[0m\n\u001b[1;32m----> 1\u001b[0m \u001b[43mrajendra\u001b[49m\u001b[38;5;241;43m.\u001b[39;49m\u001b[43ma\u001b[49m\n",
      "\u001b[1;31mAttributeError\u001b[0m: type object 'rajendra' has no attribute 'a'"
     ]
    }
   ],
   "source": [
    "rajendra.a"
   ]
  },
  {
   "cell_type": "code",
   "execution_count": 9,
   "id": "8d469233",
   "metadata": {},
   "outputs": [
    {
     "data": {
      "text/plain": [
       "50"
      ]
     },
     "execution_count": 9,
     "metadata": {},
     "output_type": "execute_result"
    }
   ],
   "source": [
    "rajendra.b"
   ]
  },
  {
   "cell_type": "code",
   "execution_count": 20,
   "id": "07573b24",
   "metadata": {},
   "outputs": [],
   "source": [
    "class rajendra():\n",
    "    def __init__(self):\n",
    "        print(\"it is done\")\n",
    "    def new1(self):\n",
    "        print(\"new called\")\n",
    "        \n",
    "class rajendra1(rajendra):\n",
    "    def __init__(self):\n",
    "        super().new1()\n",
    "        \n",
    "        \n"
   ]
  },
  {
   "cell_type": "code",
   "execution_count": 21,
   "id": "ccac4792",
   "metadata": {},
   "outputs": [
    {
     "name": "stdout",
     "output_type": "stream",
     "text": [
      "new called\n"
     ]
    }
   ],
   "source": [
    "a=rajendra1()"
   ]
  },
  {
   "cell_type": "code",
   "execution_count": 22,
   "id": "43366654",
   "metadata": {},
   "outputs": [
    {
     "data": {
      "text/plain": [
       "<function object.__new__(*args, **kwargs)>"
      ]
     },
     "execution_count": 22,
     "metadata": {},
     "output_type": "execute_result"
    }
   ],
   "source": [
    "a.__new__"
   ]
  },
  {
   "cell_type": "code",
   "execution_count": 23,
   "id": "d6bf855a",
   "metadata": {},
   "outputs": [
    {
     "ename": "SyntaxError",
     "evalue": "invalid syntax (3905452595.py, line 1)",
     "output_type": "error",
     "traceback": [
      "\u001b[1;36m  Cell \u001b[1;32mIn[23], line 1\u001b[1;36m\u001b[0m\n\u001b[1;33m    a.\u001b[0m\n\u001b[1;37m      ^\u001b[0m\n\u001b[1;31mSyntaxError\u001b[0m\u001b[1;31m:\u001b[0m invalid syntax\n"
     ]
    }
   ],
   "source": [
    "a."
   ]
  },
  {
   "cell_type": "code",
   "execution_count": 31,
   "id": "c6b57b44",
   "metadata": {},
   "outputs": [],
   "source": [
    "# propery decorator  \n",
    "\n",
    "\n",
    "\n",
    "\n",
    "\n",
    "class rajendra():\n",
    "    raj=10\n",
    "    \n",
    "    @property\n",
    "    def new(self):\n",
    "        print(\"it is done\")\n",
    "    "
   ]
  },
  {
   "cell_type": "code",
   "execution_count": 32,
   "id": "037b58f3",
   "metadata": {},
   "outputs": [],
   "source": [
    "a=rajendra()"
   ]
  },
  {
   "cell_type": "code",
   "execution_count": 33,
   "id": "9aef61c8",
   "metadata": {},
   "outputs": [
    {
     "name": "stdout",
     "output_type": "stream",
     "text": [
      "it is done\n",
      "None\n",
      "10\n"
     ]
    }
   ],
   "source": [
    "print(a.new)\n",
    "print(a.raj)"
   ]
  },
  {
   "cell_type": "code",
   "execution_count": null,
   "id": "33ed67a7",
   "metadata": {},
   "outputs": [],
   "source": []
  },
  {
   "cell_type": "code",
   "execution_count": null,
   "id": "817dbf9b",
   "metadata": {},
   "outputs": [],
   "source": []
  },
  {
   "cell_type": "code",
   "execution_count": 37,
   "id": "f599fcdc",
   "metadata": {},
   "outputs": [],
   "source": [
    "# static method  := jo method bound for tha class this method use object and class \n",
    "\n",
    "class rajendra():\n",
    "    raj=10\n",
    "    \n",
    "    @staticmethod\n",
    "    def new():\n",
    "        print(\"it is done\")"
   ]
  },
  {
   "cell_type": "code",
   "execution_count": 38,
   "id": "ac5c80c5",
   "metadata": {},
   "outputs": [
    {
     "name": "stdout",
     "output_type": "stream",
     "text": [
      "it is done\n"
     ]
    }
   ],
   "source": [
    "rajendra.new()"
   ]
  },
  {
   "cell_type": "code",
   "execution_count": 39,
   "id": "0e7edbad",
   "metadata": {},
   "outputs": [],
   "source": [
    "a=rajendra()"
   ]
  },
  {
   "cell_type": "code",
   "execution_count": 40,
   "id": "dedd4972",
   "metadata": {},
   "outputs": [
    {
     "name": "stdout",
     "output_type": "stream",
     "text": [
      "it is done\n"
     ]
    }
   ],
   "source": [
    "a.new()"
   ]
  },
  {
   "cell_type": "code",
   "execution_count": null,
   "id": "0029b7cf",
   "metadata": {},
   "outputs": [],
   "source": []
  }
 ],
 "metadata": {
  "kernelspec": {
   "display_name": "Python 3 (ipykernel)",
   "language": "python",
   "name": "python3"
  },
  "language_info": {
   "codemirror_mode": {
    "name": "ipython",
    "version": 3
   },
   "file_extension": ".py",
   "mimetype": "text/x-python",
   "name": "python",
   "nbconvert_exporter": "python",
   "pygments_lexer": "ipython3",
   "version": "3.10.9"
  }
 },
 "nbformat": 4,
 "nbformat_minor": 5
}
