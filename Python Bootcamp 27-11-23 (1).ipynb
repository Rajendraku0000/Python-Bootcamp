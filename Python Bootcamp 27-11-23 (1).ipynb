{
 "cells": [
  {
   "cell_type": "code",
   "execution_count": 2,
   "id": "15f05a0a",
   "metadata": {},
   "outputs": [],
   "source": [
    "# dir(\"hey\")"
   ]
  },
  {
   "cell_type": "code",
   "execution_count": 3,
   "id": "4b5da81f",
   "metadata": {},
   "outputs": [
    {
     "data": {
      "text/plain": [
       "2"
      ]
     },
     "execution_count": 3,
     "metadata": {},
     "output_type": "execute_result"
    }
   ],
   "source": [
    "4//2"
   ]
  },
  {
   "cell_type": "code",
   "execution_count": 12,
   "id": "d2bbfd78",
   "metadata": {},
   "outputs": [
    {
     "name": "stdout",
     "output_type": "stream",
     "text": [
      "palindrom\n"
     ]
    }
   ],
   "source": [
    "a=\"rajjar\"\n",
    "mid=len(a)//2\n",
    "start=0\n",
    "end=len(a)-1\n",
    "flag=0\n",
    "\n",
    "\n",
    "while start <= end:\n",
    "    if a[start]==a[end]:\n",
    "        start=start+1\n",
    "        end=end-1\n",
    "    else:\n",
    "        flag=1 \n",
    "        break\n",
    "if flag==0:\n",
    "    print(\"palindrom\")\n",
    "    \n",
    "else:\n",
    "    print(\"not palindrop \")"
   ]
  },
  {
   "cell_type": "code",
   "execution_count": 54,
   "id": "4d151e94",
   "metadata": {},
   "outputs": [
    {
     "name": "stdout",
     "output_type": "stream",
     "text": [
      "symmentric\n"
     ]
    }
   ],
   "source": [
    "a=\"abcabc\"\n",
    "\n",
    "length=len(a)\n",
    "mid=length//2\n",
    "\n",
    "start=0\n",
    "secound=mid\n",
    "\n",
    "flag=0\n",
    "\n",
    "while start < mid and mid<length:\n",
    "    if a[start]== a[secound]:\n",
    "        start=start+1\n",
    "        secound=secound+1\n",
    "    else:\n",
    "        flag=1\n",
    "        break\n",
    "        \n",
    "if flag==0:\n",
    "    print(\"symmentric\")\n",
    "else:\n",
    "    print(\"not symmentic\")\n",
    "        "
   ]
  },
  {
   "cell_type": "code",
   "execution_count": 30,
   "id": "fea09f83",
   "metadata": {},
   "outputs": [
    {
     "data": {
      "text/plain": [
       "4"
      ]
     },
     "execution_count": 30,
     "metadata": {},
     "output_type": "execute_result"
    }
   ],
   "source": [
    "a=\"abcdabc\"\n",
    "len(a)//2+1"
   ]
  },
  {
   "cell_type": "code",
   "execution_count": 52,
   "id": "31f01dab",
   "metadata": {},
   "outputs": [],
   "source": [
    "def symmentic_chk(data):\n",
    "    n=len(data)\n",
    "    start=0\n",
    "    last=n\n",
    "    flag=0\n",
    "    if n%2:\n",
    "        middle=n//2+1\n",
    "    else:\n",
    "        middle=n//2\n",
    "    while (start<middle and middle<last):\n",
    "        if data[start]==data[middle]:\n",
    "            start+=1\n",
    "            middle+=1\n",
    "        else:\n",
    "            flag=1\n",
    "            break\n",
    "    if flag==0:\n",
    "        print(\"symmentic\")\n",
    "    else:\n",
    "        print(\"symmentic nahi he\")"
   ]
  },
  {
   "cell_type": "code",
   "execution_count": 53,
   "id": "8794deca",
   "metadata": {},
   "outputs": [
    {
     "name": "stdout",
     "output_type": "stream",
     "text": [
      "symmentic\n"
     ]
    }
   ],
   "source": [
    "symmentic_chk(\"abcabc\")\n"
   ]
  },
  {
   "cell_type": "code",
   "execution_count": null,
   "id": "f9b3643b",
   "metadata": {},
   "outputs": [],
   "source": []
  },
  {
   "cell_type": "code",
   "execution_count": 73,
   "id": "b00cd6bf",
   "metadata": {},
   "outputs": [
    {
     "name": "stdout",
     "output_type": "stream",
     "text": [
      "Enter string A E I O U a eiou\n",
      "this is total vowel\n"
     ]
    }
   ],
   "source": [
    "a=input(\"Enter string \")\n",
    "\n",
    "length=len(a)\n",
    "count=0\n",
    "\n",
    "for i in range(length):\n",
    "    if a[i]==\"a\"or a[i]==\"e\" or a[i]==\"i\" or a[i]==\"o\" or a[i]==\"u\"or a[i]==\"A\"or a[i]==\"E\" or a[i]==\"I\" or a[i]==\"O\" or a[i]==\"U\" or a[i]==\" \":\n",
    "        count=count+1\n",
    "if count==length:\n",
    "    print(\"this is total vowel\")\n",
    "else:\n",
    "    print(\"this is not total vowel\")"
   ]
  },
  {
   "cell_type": "code",
   "execution_count": 74,
   "id": "87027b2d",
   "metadata": {},
   "outputs": [
    {
     "name": "stdout",
     "output_type": "stream",
     "text": [
      "Enter string A E I O U a eiou\n",
      "this is total vowel\n"
     ]
    }
   ],
   "source": [
    "a=input(\"Enter string \")\n",
    "\n",
    "length=len(a)\n",
    "count=0\n",
    "\n",
    "\n",
    "for i in range(length):\n",
    "    if a[i] in [\"a\",\"e\",\"i\",\"o\",\"u\",\"A\",\"E\",\"I\",\"O\",\"U\",\" \"] :\n",
    "        count=count+1\n",
    "        \n",
    "if count==length:\n",
    "    print(\"this is total vowel\")\n",
    "else:\n",
    "    print(\"this is not total vowel\")"
   ]
  },
  {
   "cell_type": "code",
   "execution_count": 75,
   "id": "5d6393cc",
   "metadata": {},
   "outputs": [
    {
     "data": {
      "text/plain": [
       "'A E I O U a eiou'"
      ]
     },
     "execution_count": 75,
     "metadata": {},
     "output_type": "execute_result"
    }
   ],
   "source": [
    "\"A E I O U a eiou\""
   ]
  },
  {
   "cell_type": "code",
   "execution_count": 91,
   "id": "16fd4b3e",
   "metadata": {},
   "outputs": [
    {
     "name": "stdout",
     "output_type": "stream",
     "text": [
      "enter stringhello\n",
      "1\n",
      "1\n",
      "2\n",
      "1\n",
      "o\n"
     ]
    }
   ],
   "source": [
    "x=input(\"enter string\")\n",
    "mydict={}\n",
    "for i in x:\n",
    "    if i not in mydict:\n",
    "        mydict[i] = 1\n",
    "    else:\n",
    "        mydict[i] += 1\n",
    "        \n",
    "small=0\n",
    "for i in mydict.keys():\n",
    "    key=i\n",
    "    values=mydict[i]\n",
    "    print(values)\n",
    "    for j in mydict.values():\n",
    "        if values<j:\n",
    "            small=key\n",
    "\n",
    "print(small)"
   ]
  },
  {
   "cell_type": "code",
   "execution_count": null,
   "id": "b6d19693",
   "metadata": {},
   "outputs": [],
   "source": []
  },
  {
   "cell_type": "code",
   "execution_count": 93,
   "id": "bc6a24b0",
   "metadata": {},
   "outputs": [],
   "source": [
    "def join_string(data):\n",
    "    mid=len(data)//2\n",
    "    final =\"\"\n",
    "    for i in range(0,len(data)):\n",
    "        if (i<=mid):\n",
    "            final +=data[i].upper()\n",
    "        else:\n",
    "            final+= data[i]\n",
    "    print(final)\n",
    "            "
   ]
  },
  {
   "cell_type": "code",
   "execution_count": 94,
   "id": "7b187c4e",
   "metadata": {},
   "outputs": [
    {
     "name": "stdout",
     "output_type": "stream",
     "text": [
      "HELlo\n"
     ]
    }
   ],
   "source": [
    "join_string(\"hello\")"
   ]
  },
  {
   "cell_type": "code",
   "execution_count": null,
   "id": "3198f88e",
   "metadata": {
    "collapsed": true
   },
   "outputs": [],
   "source": []
  }
 ],
 "metadata": {
  "kernelspec": {
   "display_name": "Python 3 (ipykernel)",
   "language": "python",
   "name": "python3"
  },
  "language_info": {
   "codemirror_mode": {
    "name": "ipython",
    "version": 3
   },
   "file_extension": ".py",
   "mimetype": "text/x-python",
   "name": "python",
   "nbconvert_exporter": "python",
   "pygments_lexer": "ipython3",
   "version": "3.10.9"
  }
 },
 "nbformat": 4,
 "nbformat_minor": 5
}
