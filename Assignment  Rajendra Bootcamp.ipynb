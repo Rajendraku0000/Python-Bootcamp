{
 "cells": [
  {
   "cell_type": "code",
   "execution_count": 36,
   "id": "10c99d4e",
   "metadata": {},
   "outputs": [
    {
     "name": "stdout",
     "output_type": "stream",
     "text": [
      "  * * * * * \n",
      "    *     * \n",
      "      *   * \n",
      "        * * \n",
      "          * \n"
     ]
    }
   ],
   "source": [
    "for i in range(1,6):\n",
    "    for k in range(i):\n",
    "        print(\" \",end=\" \")\n",
    "    for j in range(6-i):\n",
    "        if i==1 or i==5 or j==0 or j==3 or (i==3 and j==2) or (i==4 and j==1):\n",
    "            print(\"*\",end=\" \")\n",
    "        else:\n",
    "            print(\" \",end=\" \")\n",
    "        \n",
    "    print()"
   ]
  },
  {
   "cell_type": "code",
   "execution_count": 41,
   "id": "f3b98a7e",
   "metadata": {},
   "outputs": [
    {
     "name": "stdout",
     "output_type": "stream",
     "text": [
      "        1\n",
      "$ $ $ $ * \n",
      "        2\n",
      "$ $ $ * * \n",
      "        3\n",
      "$ $ * * * \n",
      "        4\n",
      "$ * * * * \n",
      "        5\n",
      "* * * * * \n"
     ]
    }
   ],
   "source": [
    "for i in range(1,6):\n",
    "    print(\"       \",i)\n",
    "    for k in range(5-i):\n",
    "        print(\"$\",end=\" \")\n",
    "    for j in range(i):\n",
    "        print(\"*\",end=\" \")\n",
    "    print()"
   ]
  },
  {
   "cell_type": "code",
   "execution_count": null,
   "id": "f338b46c",
   "metadata": {},
   "outputs": [],
   "source": []
  },
  {
   "cell_type": "code",
   "execution_count": 18,
   "id": "def32ea9",
   "metadata": {},
   "outputs": [
    {
     "data": {
      "text/plain": [
       "3"
      ]
     },
     "execution_count": 18,
     "metadata": {},
     "output_type": "execute_result"
    }
   ],
   "source": [
    "# Question ==> take a input from user and check how meny time substring availbe in givan string \n",
    "\n",
    "\n",
    "\n",
    "\n",
    "def count_substring(main_string, substring):\n",
    "    count = 0\n",
    "    start_index = 0\n",
    "\n",
    "    while start_index < len(main_string):\n",
    "        index = main_string.find(substring, start_index)\n",
    "        if index == -1:\n",
    "            break\n",
    "        count += 1\n",
    "        start_index = index + 1\n",
    "\n",
    "    return count\n",
    "\n",
    "\n",
    "\n",
    "\n",
    "\n",
    "occur = count_substring(\"hellohellohello\", \"hello\")\n",
    "\n",
    "occur"
   ]
  },
  {
   "cell_type": "code",
   "execution_count": 25,
   "id": "e16077fd",
   "metadata": {},
   "outputs": [
    {
     "name": "stdout",
     "output_type": "stream",
     "text": [
      "Enter a string: raj\n",
      "None 0\n"
     ]
    }
   ],
   "source": [
    "# create a program take  a user input and check each element occur and return first minimum occurace \n",
    "\n",
    "def find_first_min_occurrence(input_string):\n",
    "    char_count = {}\n",
    "\n",
    "    for char in input_string:\n",
    "        if char in char_count:\n",
    "            char_count[char] += 1\n",
    "        else:\n",
    "            char_count[char] = 1\n",
    "\n",
    "    min_char = None\n",
    "    min_occurrence = float('inf')\n",
    "\n",
    "    for char, occurrence in char_count.items():\n",
    "        if occurrence < min_occurrence:\n",
    "            min_char = char\n",
    "            min_occurrence = occurrence\n",
    "\n",
    "    return min_char, min_occurrence\n",
    "\n",
    "\n",
    "\n",
    "\n",
    "user_input = input(\"Enter a string: \")\n",
    "\n",
    "\n",
    "min_char, min_occurrence = find_first_min_occurrence(user_input)\n",
    "\n",
    "print(min_char,min_occurrence)\n"
   ]
  },
  {
   "cell_type": "code",
   "execution_count": 30,
   "id": "a879933f",
   "metadata": {},
   "outputs": [
    {
     "name": "stdout",
     "output_type": "stream",
     "text": [
      "Enter a string: rajendra\n",
      "r 2\n"
     ]
    }
   ],
   "source": [
    "# create a program take  a user input and check each element occur and return first minimum occurace \n",
    "\n",
    "\n",
    "def find_first_max_occurrence(input_string):\n",
    "    char_count = {}\n",
    "\n",
    "    # Count the occurrences of each character in the input string\n",
    "    for char in input_string:\n",
    "        if char in char_count:\n",
    "            char_count[char] += 1\n",
    "        else:\n",
    "            char_count[char] = 1\n",
    "\n",
    "    # Find the first character with the maximum occurrence\n",
    "    max_char = None\n",
    "    max_occurrence = 0\n",
    "\n",
    "    for char, occurrence in char_count.items():\n",
    "        if occurrence > max_occurrence:\n",
    "            max_char = char\n",
    "            max_occurrence = occurrence\n",
    "\n",
    "    return max_char, max_occurrence\n",
    "\n",
    "# Take user input\n",
    "user_input = input(\"Enter a string: \")\n",
    "\n",
    "# Call the function and display the result\n",
    "max_char, max_occurrence = find_first_max_occurrence(user_input)\n",
    "print(max_char,max_occurrence)"
   ]
  },
  {
   "cell_type": "code",
   "execution_count": 33,
   "id": "cc6b64b9",
   "metadata": {},
   "outputs": [
    {
     "name": "stdout",
     "output_type": "stream",
     "text": [
      "RAJENdra\n"
     ]
    }
   ],
   "source": [
    "# Question take a user input and cover first half element into the uppercase\n",
    "\n",
    "def join_string(data):\n",
    "    mid=len(data)//2\n",
    "    final =\"\"\n",
    "    for i in range(0,len(data)):\n",
    "        if (i<=mid):\n",
    "            final +=data[i].upper()\n",
    "        else:\n",
    "            final+= data[i]\n",
    "    print(final)\n",
    "            \n",
    "        \n",
    "join_string(\"rajendra\")"
   ]
  },
  {
   "cell_type": "code",
   "execution_count": null,
   "id": "d1c91a1d",
   "metadata": {},
   "outputs": [],
   "source": []
  }
 ],
 "metadata": {
  "kernelspec": {
   "display_name": "Python 3 (ipykernel)",
   "language": "python",
   "name": "python3"
  },
  "language_info": {
   "codemirror_mode": {
    "name": "ipython",
    "version": 3
   },
   "file_extension": ".py",
   "mimetype": "text/x-python",
   "name": "python",
   "nbconvert_exporter": "python",
   "pygments_lexer": "ipython3",
   "version": "3.10.9"
  }
 },
 "nbformat": 4,
 "nbformat_minor": 5
}
