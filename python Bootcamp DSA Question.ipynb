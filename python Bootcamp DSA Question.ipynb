{
 "cells": [
  {
   "cell_type": "markdown",
   "id": "b097260a",
   "metadata": {},
   "source": [
    "# "
   ]
  },
  {
   "cell_type": "code",
   "execution_count": null,
   "id": "ba19d051",
   "metadata": {},
   "outputs": [],
   "source": []
  },
  {
   "cell_type": "code",
   "execution_count": 35,
   "id": "ea07d235",
   "metadata": {},
   "outputs": [
    {
     "name": "stdout",
     "output_type": "stream",
     "text": [
      "valid\n",
      "valid\n"
     ]
    }
   ],
   "source": [
    "a=\"[()]\"\n",
    "mydict={\"(\":\")\",\"[\":\"]\",\"{\":\"}\"}\n",
    "mylist=[]\n",
    "    \n",
    "for i in a:\n",
    "    if i in mydict:\n",
    "        mylist.append(i)\n",
    "    elif len(mylist)!= 0 :\n",
    "        if (ord(mylist[-1]) ==40 and ord(i)==41)   or   (ord(mylist[-1]) ==91 and ord(i)==93)   or (ord(mylist[-1]) ==123 and ord(i)==125):\n",
    "            print(\"valid\")\n",
    "            mylist.pop()\n",
    "    else:\n",
    "        print(\"not valid\")\n"
   ]
  },
  {
   "cell_type": "code",
   "execution_count": 54,
   "id": "0c1450ec",
   "metadata": {},
   "outputs": [
    {
     "name": "stdout",
     "output_type": "stream",
     "text": [
      "valid\n"
     ]
    }
   ],
   "source": [
    "a=\"()\"\n",
    "mydict={\"(\":\")\",\"[\":\"]\",\"{\":\"}\"}\n",
    "mylist=[]\n",
    "    \n",
    "for i in a:\n",
    "    if i in mydict:\n",
    "        mylist.append(i)\n",
    "    elif i ==\")\" and len(mylist)!=0 and mylist[-1]==\"(\":\n",
    "        mylist.pop()\n",
    "        print(\"valid\")\n",
    "        \n",
    "    elif i ==\"]\" and len(mylist)!=0 and mylist[-1]==\"[\":\n",
    "        mylist.pop()\n",
    "        print(\"valid\")\n",
    "        \n",
    "    elif i ==\"}\" and len(mylist)!=0 and mylist[-1]==\"{\":\n",
    "        mylist.pop()\n",
    "        print(\"valid\")\n",
    "        \n",
    "    else:\n",
    "        print(\"not valid\")\n"
   ]
  },
  {
   "cell_type": "code",
   "execution_count": 62,
   "id": "8887a9a1",
   "metadata": {},
   "outputs": [
    {
     "name": "stdout",
     "output_type": "stream",
     "text": [
      "valid\n",
      "not valid\n"
     ]
    }
   ],
   "source": [
    "a=\"[[]]\"\n",
    "mydictionary={\")\":\"(\",\"]\":\"[\",\"}\":\"{\"}\n",
    "\n",
    "\n",
    "mylist=[\"[\",]\n",
    "    \n",
    "for i in a:\n",
    "    if i not in mydictionary:\n",
    "        mylist.append(i)\n",
    "    elif len(mylist)!=0 and mylist[-1]==mydictionary[i]:\n",
    "        mylist.pop()\n",
    "        print(\"valid\")\n",
    "        \n",
    "    \n",
    "        \n",
    "    else:\n",
    "        print(\"not valid\")\n"
   ]
  },
  {
   "cell_type": "code",
   "execution_count": null,
   "id": "7fbc0c79",
   "metadata": {},
   "outputs": [],
   "source": [
    "# stack banakar alana he  list se push or pop\n",
    "# to create stack and "
   ]
  }
 ],
 "metadata": {
  "kernelspec": {
   "display_name": "Python 3 (ipykernel)",
   "language": "python",
   "name": "python3"
  },
  "language_info": {
   "codemirror_mode": {
    "name": "ipython",
    "version": 3
   },
   "file_extension": ".py",
   "mimetype": "text/x-python",
   "name": "python",
   "nbconvert_exporter": "python",
   "pygments_lexer": "ipython3",
   "version": "3.10.9"
  }
 },
 "nbformat": 4,
 "nbformat_minor": 5
}
