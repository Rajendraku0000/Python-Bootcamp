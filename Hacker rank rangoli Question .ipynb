{
 "cells": [
  {
   "cell_type": "markdown",
   "id": "e633dfea",
   "metadata": {},
   "source": [
    "--------e--------\n",
    "------e-d-e------\n",
    "----e-d-c-d-e----\n",
    "--e-d-c-b-c-d-e--\n",
    "e-d-c-b-a-b-c-d-e\n",
    "--e-d-c-b-c-d-e--\n",
    "----e-d-c-d-e----\n",
    "------e-d-e------\n",
    "--------e--------"
   ]
  },
  {
   "cell_type": "code",
   "execution_count": null,
   "id": "1307840a",
   "metadata": {},
   "outputs": [],
   "source": []
  },
  {
   "cell_type": "code",
   "execution_count": 61,
   "id": "82e3878d",
   "metadata": {},
   "outputs": [
    {
     "name": "stdout",
     "output_type": "stream",
     "text": [
      "Enter number5\n",
      "--------e--------\n",
      "------e-d-e------\n",
      "----e-d-c-d-e----\n",
      "--e-d-c-b-c-d-e--\n",
      "e-d-c-b-a-b-c-d-e\n",
      "--e-d-c-b-c-d-e--\n",
      "----e-d-c-d-e----\n",
      "------e-d-e------\n",
      "--------e--------\n"
     ]
    }
   ],
   "source": [
    "n=int(input(\"Enter number\"))\n",
    "def print_rangoli(size):\n",
    "    \n",
    "\n",
    "    for i in range(1,n+1):\n",
    "       \n",
    "            \n",
    "        num1=97+n\n",
    "        num2=97\n",
    "        for k in range(n-i):\n",
    "            print(\"-\",end=\"-\")\n",
    "        for j in range(i):\n",
    "            num1 -= 1\n",
    "            print(chr(num1),end=\"-\")\n",
    "            \n",
    "        for m in range(1,i):\n",
    "            num1 +=1\n",
    "            if m==4:\n",
    "                print(chr(num1),end=\"\")\n",
    "            else:\n",
    "                print(chr(num1),end=\"-\")\n",
    "            \n",
    "            \n",
    "        for k in range(n-i):\n",
    "            if k==0:\n",
    "                print(\"-\",end=\"\")\n",
    "            else:\n",
    "                print(\"-\",end=\"-\")\n",
    "        print()\n",
    "        \n",
    "        \n",
    "    for i in range(1,n):\n",
    "        \n",
    "        num1=97+n\n",
    "        \n",
    "        for k in range(i):\n",
    "            print(\"-\",end=\"-\")\n",
    "        for j in range(n-i):\n",
    "            num1 -= 1\n",
    "            print(chr(num1),end=\"-\")\n",
    "            \n",
    "        for m in range(1,n-i):\n",
    "            num1 +=1\n",
    "            print(chr(num1),end=\"-\")\n",
    "            \n",
    "            \n",
    "        for k in range(i):\n",
    "            if k==(i-1):\n",
    "                print(\"-\",end=\"\")\n",
    "            else:\n",
    "                print(\"-\",end=\"-\")\n",
    "        print()\n",
    "\n",
    "print_rangoli(n)"
   ]
  },
  {
   "cell_type": "code",
   "execution_count": null,
   "id": "4722dea8",
   "metadata": {},
   "outputs": [],
   "source": [
    "def print_rangoli(size):\n",
    "    alphabet = \"abcdefghijklmnopqrstuvwxyz\"\n",
    "    flipped_string = \"\".join(reversed(alphabet[0:size]))\n",
    "    width = (size + (size - 1)) * 2 - 1\n",
    "    filler = \"-\"\n",
    "    c = 0 \n",
    "    for line in range(1, size * 2):\n",
    "        c = c - 1 if line > size else c + 1\n",
    "        right = \"\".join(reversed(flipped_string[0:c]))\n",
    "        left = flipped_string[0:c-1]\n",
    "        line = \"-\".join(list(left + right))\n",
    "        print(line.center(width, filler))\n"
   ]
  }
 ],
 "metadata": {
  "kernelspec": {
   "display_name": "Python 3 (ipykernel)",
   "language": "python",
   "name": "python3"
  },
  "language_info": {
   "codemirror_mode": {
    "name": "ipython",
    "version": 3
   },
   "file_extension": ".py",
   "mimetype": "text/x-python",
   "name": "python",
   "nbconvert_exporter": "python",
   "pygments_lexer": "ipython3",
   "version": "3.10.9"
  }
 },
 "nbformat": 4,
 "nbformat_minor": 5
}
