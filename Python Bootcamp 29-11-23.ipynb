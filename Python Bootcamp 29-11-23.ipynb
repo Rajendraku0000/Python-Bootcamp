{
 "cells": [
  {
   "cell_type": "code",
   "execution_count": 1,
   "id": "cb34eba5",
   "metadata": {},
   "outputs": [
    {
     "data": {
      "text/plain": [
       "{'a': 'rajendra', 'b': ['rajendra']}"
      ]
     },
     "execution_count": 1,
     "metadata": {},
     "output_type": "execute_result"
    }
   ],
   "source": [
    "def new(a:int,b:list=[]):\n",
    "#     b.append(a)\n",
    "    b.append(a)\n",
    "    return {\"a\":a,\"b\":b}\n",
    "new(\"rajendra\")"
   ]
  },
  {
   "cell_type": "code",
   "execution_count": 2,
   "id": "7a20403f",
   "metadata": {},
   "outputs": [
    {
     "data": {
      "text/plain": [
       "{'a': 'ankit', 'b': ['rajendra', 'ankit']}"
      ]
     },
     "execution_count": 2,
     "metadata": {},
     "output_type": "execute_result"
    }
   ],
   "source": [
    "new(\"ankit\")"
   ]
  },
  {
   "cell_type": "code",
   "execution_count": 3,
   "id": "17898bd2",
   "metadata": {},
   "outputs": [],
   "source": [
    "def pattern(n):\n",
    "    for i in range(n,0,-1):\n",
    "        print(i,end=\" \")\n",
    "        for k in range(i-1,0,-1):\n",
    "            print(k,end=\" \")\n",
    "        print()\n",
    "    "
   ]
  },
  {
   "cell_type": "code",
   "execution_count": 4,
   "id": "c300fea8",
   "metadata": {},
   "outputs": [
    {
     "name": "stdout",
     "output_type": "stream",
     "text": [
      "7 6 5 4 3 2 1 \n",
      "6 5 4 3 2 1 \n",
      "5 4 3 2 1 \n",
      "4 3 2 1 \n",
      "3 2 1 \n",
      "2 1 \n",
      "1 \n"
     ]
    }
   ],
   "source": [
    "pattern(7)"
   ]
  },
  {
   "cell_type": "code",
   "execution_count": 5,
   "id": "0201aa17",
   "metadata": {},
   "outputs": [
    {
     "name": "stdout",
     "output_type": "stream",
     "text": [
      "enter digit  6\n",
      "6\n"
     ]
    }
   ],
   "source": [
    "i=int(input(\"enter digit  \"))\n",
    "\n",
    "count=0\n",
    "while 0<i:\n",
    "    count=count+(i%10)\n",
    "    i=i//10\n",
    "print(count)"
   ]
  },
  {
   "cell_type": "code",
   "execution_count": 6,
   "id": "d8b7a929",
   "metadata": {},
   "outputs": [],
   "source": [
    "# i=int(input(\"enter digit  \"))\n",
    "\n",
    "# count=0\n",
    "# while 0<i:\n",
    "#     count=count+1\n",
    "#     i=i//10\n",
    "# print(count)"
   ]
  },
  {
   "cell_type": "code",
   "execution_count": 7,
   "id": "cffc75aa",
   "metadata": {},
   "outputs": [],
   "source": [
    "# k=input(\"enter string\")\n",
    "# length=len(k)\n",
    "\n",
    "# for i in range(length):\n",
    "#     if i%2==0:\n",
    "#         print(k[i].lower(),end=\"\")\n",
    "#     else:\n",
    "#         print(k[i].upper(),end=\"\")\n"
   ]
  },
  {
   "cell_type": "code",
   "execution_count": 9,
   "id": "36bdc85c",
   "metadata": {},
   "outputs": [
    {
     "name": "stdout",
     "output_type": "stream",
     "text": [
      "enter 1st digite20\n",
      "enter 2nd digite60\n",
      "this is prime number 23\n",
      "this is prime number 29\n",
      "this is prime number 31\n",
      "this is prime number 37\n",
      "this is prime number 41\n",
      "this is prime number 43\n",
      "this is prime number 47\n",
      "this is prime number 53\n",
      "this is prime number 59\n"
     ]
    }
   ],
   "source": [
    "a=int(input(\"enter 1st digite\"))\n",
    "b=int(input(\"enter 2nd digite\"))\n",
    "\n",
    "for i in range(a,b):\n",
    "    c=0\n",
    "    for j in range(2,i):\n",
    "        if i%j == 0:\n",
    "            c=c+1\n",
    "        \n",
    "    if c == 0:\n",
    "        print(\"this is prime number\",i)\n",
    "\n",
    "        \n",
    "\n"
   ]
  },
  {
   "cell_type": "code",
   "execution_count": 40,
   "id": "223b1664",
   "metadata": {},
   "outputs": [
    {
     "name": "stdout",
     "output_type": "stream",
     "text": [
      "enter string rajendra\n",
      "1 1 1 1 1 1 1 1 1 1 1 1 1 1 1 1 "
     ]
    }
   ],
   "source": [
    "a=input(\"enter string \")\n",
    "\n",
    "\n",
    "for i in range(len(a)):\n",
    "    count=1\n",
    "    index=i\n",
    "    newindex=index+1\n",
    "    print(count,end=\" \")\n",
    "    while newindex < len(a) and a[index]==a[newindex]:\n",
    "        count=count+1\n",
    "        index=index+1\n",
    "        newindex=index+1\n",
    "    \n",
    "    print(count,end=\" \")\n"
   ]
  },
  {
   "cell_type": "code",
   "execution_count": 24,
   "id": "1fc4f652",
   "metadata": {},
   "outputs": [
    {
     "data": {
      "text/plain": [
       "'r'"
      ]
     },
     "execution_count": 24,
     "metadata": {},
     "output_type": "execute_result"
    }
   ],
   "source": [
    "a[0]"
   ]
  },
  {
   "cell_type": "code",
   "execution_count": 25,
   "id": "56afd6e5",
   "metadata": {},
   "outputs": [
    {
     "data": {
      "text/plain": [
       "'a'"
      ]
     },
     "execution_count": 25,
     "metadata": {},
     "output_type": "execute_result"
    }
   ],
   "source": [
    "a[1]"
   ]
  },
  {
   "cell_type": "code",
   "execution_count": null,
   "id": "f01ac716",
   "metadata": {},
   "outputs": [],
   "source": []
  }
 ],
 "metadata": {
  "kernelspec": {
   "display_name": "Python 3 (ipykernel)",
   "language": "python",
   "name": "python3"
  },
  "language_info": {
   "codemirror_mode": {
    "name": "ipython",
    "version": 3
   },
   "file_extension": ".py",
   "mimetype": "text/x-python",
   "name": "python",
   "nbconvert_exporter": "python",
   "pygments_lexer": "ipython3",
   "version": "3.10.9"
  }
 },
 "nbformat": 4,
 "nbformat_minor": 5
}
