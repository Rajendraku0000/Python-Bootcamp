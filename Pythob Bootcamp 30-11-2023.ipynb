{
 "cells": [
  {
   "cell_type": "code",
   "execution_count": null,
   "id": "445d622d",
   "metadata": {},
   "outputs": [],
   "source": [
    "def func():\n",
    "    print(\"hello\")"
   ]
  },
  {
   "cell_type": "code",
   "execution_count": null,
   "id": "60a38f5a",
   "metadata": {},
   "outputs": [],
   "source": [
    "func()"
   ]
  },
  {
   "cell_type": "code",
   "execution_count": null,
   "id": "cb1c48c4",
   "metadata": {},
   "outputs": [],
   "source": [
    "print(func())"
   ]
  },
  {
   "cell_type": "code",
   "execution_count": null,
   "id": "a050242c",
   "metadata": {},
   "outputs": [],
   "source": [
    "# fectorial  number\n",
    "\n",
    "n=int(input(\"enter number \"))\n",
    "\n",
    "fectorial =1\n",
    " \n",
    "for i in range(1,n+1):\n",
    "    fectorial=fectorial*i\n",
    "print(fectorial)"
   ]
  },
  {
   "cell_type": "code",
   "execution_count": null,
   "id": "e10e9b60",
   "metadata": {},
   "outputs": [],
   "source": [
    "# fectorial  number\n",
    "\n",
    "# n=int(input(\"enter number \"))\n",
    "\n",
    "def recur_factorial(n):\n",
    "    if n == 1:\n",
    "        return n\n",
    "    else:\n",
    "        return n*recur_factorial(n-1)\n",
    "    \n",
    "    \n",
    "    \n",
    "        "
   ]
  },
  {
   "cell_type": "code",
   "execution_count": null,
   "id": "2fb6bf94",
   "metadata": {},
   "outputs": [],
   "source": [
    "a=recur_factorial(4)\n",
    "a"
   ]
  },
  {
   "cell_type": "markdown",
   "id": "0d6d6817",
   "metadata": {},
   "source": [
    "### "
   ]
  },
  {
   "cell_type": "code",
   "execution_count": null,
   "id": "f91342b6",
   "metadata": {},
   "outputs": [],
   "source": [
    "2<3"
   ]
  },
  {
   "cell_type": "code",
   "execution_count": null,
   "id": "c9476ef6",
   "metadata": {},
   "outputs": [],
   "source": [
    "def new1(a,b):\n",
    "    if a<b:\n",
    "        return new1(a,b)\n",
    "    elif b!= 0:\n",
    "        return a+new1(a,b-1)\n",
    "    else:\n",
    "        return 0\n",
    "    \n",
    "    "
   ]
  },
  {
   "cell_type": "code",
   "execution_count": null,
   "id": "bf090019",
   "metadata": {},
   "outputs": [],
   "source": [
    "new1(4,2)"
   ]
  },
  {
   "cell_type": "code",
   "execution_count": null,
   "id": "714b5a26",
   "metadata": {},
   "outputs": [],
   "source": [
    "\n",
    "def new1(n):\n",
    "    if n>0:\n",
    "        return 1+new1(n//10)\n",
    "    else:\n",
    "        return 1"
   ]
  },
  {
   "cell_type": "code",
   "execution_count": null,
   "id": "d96ed8b7",
   "metadata": {},
   "outputs": [],
   "source": [
    "new(1111)"
   ]
  },
  {
   "cell_type": "code",
   "execution_count": null,
   "id": "1daf527d",
   "metadata": {
    "scrolled": false
   },
   "outputs": [],
   "source": [
    "def counter(number):\n",
    "    if(number == 0):\n",
    "        return 0\n",
    "    return counter(number//10) + 1\n",
    "\n",
    "number = 1998\n",
    "print(counter(number)) "
   ]
  },
  {
   "cell_type": "code",
   "execution_count": null,
   "id": "ee8a41bf",
   "metadata": {},
   "outputs": [],
   "source": [
    "def counter(number):\n",
    "    if(number == 0):\n",
    "        return 0\n",
    "    return counter(number//10) + number%10\n",
    "\n",
    "number = 199877\n",
    "print(counter(number)) "
   ]
  },
  {
   "cell_type": "code",
   "execution_count": null,
   "id": "853f78a7",
   "metadata": {},
   "outputs": [],
   "source": [
    "n=15\n",
    "for i in range(1,n+1):\n",
    "    if n%i==0:\n",
    "        print(i)"
   ]
  },
  {
   "cell_type": "code",
   "execution_count": null,
   "id": "29e1f639",
   "metadata": {},
   "outputs": [],
   "source": [
    "def fec(m,n=2):\n",
    "    if m<n:\n",
    "        return 1\n",
    "    elif m%n==0:\n",
    "        print(n)\n",
    "    return fec(m,n+1)\n",
    "\n",
    "        "
   ]
  },
  {
   "cell_type": "code",
   "execution_count": null,
   "id": "29a6a31a",
   "metadata": {},
   "outputs": [],
   "source": [
    "fec(15)"
   ]
  },
  {
   "cell_type": "code",
   "execution_count": 14,
   "id": "da4d04d5",
   "metadata": {},
   "outputs": [
    {
     "name": "stdout",
     "output_type": "stream",
     "text": [
      "enter number3 4\n",
      "4\n"
     ]
    }
   ],
   "source": [
    "a=input(\"enter number\")\n",
    "a=a.split(\" \")\n",
    "c=7-int(a[0])\n",
    "d=7-int(a[0])\n",
    "\n",
    "if  c>d:\n",
    "    print(c)\n",
    "\n",
    "else:\n",
    "    print(d)\n",
    "    "
   ]
  },
  {
   "cell_type": "code",
   "execution_count": 5,
   "id": "796c4138",
   "metadata": {},
   "outputs": [
    {
     "name": "stdout",
     "output_type": "stream",
     "text": [
      "enter number7\n",
      "0\n",
      "1\n",
      "1\n",
      "2\n",
      "3\n",
      "5\n",
      "8\n"
     ]
    }
   ],
   "source": [
    "n=int(input(\"enter number\"))\n",
    "a=0\n",
    "b=1\n",
    "for i in range(n):\n",
    "    print(a)\n",
    "    c=a+b\n",
    "    a=b\n",
    "    b=c\n",
    "    "
   ]
  },
  {
   "cell_type": "code",
   "execution_count": 2,
   "id": "bdde3cee",
   "metadata": {},
   "outputs": [],
   "source": [
    "def new1(n):\n",
    "    if n==1:\n",
    "        return 0\n",
    "    elif n==2:\n",
    "        return 1\n",
    "    else:\n",
    "        return new1(n-1)+new1(n-2)"
   ]
  },
  {
   "cell_type": "code",
   "execution_count": 3,
   "id": "70e40417",
   "metadata": {},
   "outputs": [
    {
     "data": {
      "text/plain": [
       "8"
      ]
     },
     "execution_count": 3,
     "metadata": {},
     "output_type": "execute_result"
    }
   ],
   "source": [
    "new1(7)"
   ]
  },
  {
   "cell_type": "code",
   "execution_count": 4,
   "id": "cb98a8f9",
   "metadata": {},
   "outputs": [
    {
     "name": "stdout",
     "output_type": "stream",
     "text": [
      "enter number5\n",
      "0\n",
      "1\n",
      "1\n",
      "2\n",
      "3\n"
     ]
    }
   ],
   "source": [
    "n=int(input(\"enter number\"))\n",
    "\n",
    "for i in range(1,n+1):\n",
    "    print(new1(i))"
   ]
  },
  {
   "cell_type": "code",
   "execution_count": null,
   "id": "49916aa6",
   "metadata": {},
   "outputs": [],
   "source": []
  }
 ],
 "metadata": {
  "kernelspec": {
   "display_name": "Python 3 (ipykernel)",
   "language": "python",
   "name": "python3"
  },
  "language_info": {
   "codemirror_mode": {
    "name": "ipython",
    "version": 3
   },
   "file_extension": ".py",
   "mimetype": "text/x-python",
   "name": "python",
   "nbconvert_exporter": "python",
   "pygments_lexer": "ipython3",
   "version": "3.10.9"
  }
 },
 "nbformat": 4,
 "nbformat_minor": 5
}
