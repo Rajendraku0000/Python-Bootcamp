{
  "nbformat": 4,
  "nbformat_minor": 0,
  "metadata": {
    "colab": {
      "provenance": []
    },
    "kernelspec": {
      "name": "python3",
      "display_name": "Python 3"
    },
    "language_info": {
      "name": "python"
    }
  },
  "cells": [
    {
      "cell_type": "code",
      "execution_count": null,
      "metadata": {
        "colab": {
          "base_uri": "https://localhost:8080/"
        },
        "id": "MMveQl-Uk1wc",
        "outputId": "6704b113-c5e8-4764-cede-999d615abbf8"
      },
      "outputs": [
        {
          "output_type": "stream",
          "name": "stdout",
          "text": [
            "a is small\n"
          ]
        }
      ],
      "source": [
        "a=10\n",
        "b=20\n",
        "c=30\n",
        "d=40\n",
        "\n",
        "if (b>a) and (c>a) and (d>a):\n",
        "  print(\"a is small\")\n",
        "elif (a>b) and (c>b) and (d>b):\n",
        "  print(\"b is small\")\n",
        "elif (a>c) and (b>c) and (d>c):\n",
        "  print(\"c  is small\")\n",
        "else:\n",
        "  print(\"d is small\")"
      ]
    },
    {
      "cell_type": "code",
      "source": [
        "2**3"
      ],
      "metadata": {
        "colab": {
          "base_uri": "https://localhost:8080/"
        },
        "id": "jRQQEKjNlXo5",
        "outputId": "f7f262ce-4249-41f6-af71-f86d6d299274"
      },
      "execution_count": null,
      "outputs": [
        {
          "output_type": "execute_result",
          "data": {
            "text/plain": [
              "8"
            ]
          },
          "metadata": {},
          "execution_count": 3
        }
      ]
    },
    {
      "cell_type": "code",
      "source": [
        "\n",
        "arm=2356\n",
        "\n",
        "a6=arm%10\n",
        "arm=arm//10\n",
        "a5=arm%10\n",
        "arm=arm//10\n",
        "a3 = arm%10\n",
        "arm=arm//10\n",
        "\n",
        "\n",
        "sum = a6**2 + a5**2 + a3**2 + arm**2\n",
        "print(sum)"
      ],
      "metadata": {
        "colab": {
          "base_uri": "https://localhost:8080/"
        },
        "id": "lZiXaVLCl49R",
        "outputId": "77a56ee9-b120-437b-803d-fc1bf952add3"
      },
      "execution_count": null,
      "outputs": [
        {
          "output_type": "stream",
          "name": "stdout",
          "text": [
            "74\n"
          ]
        }
      ]
    },
    {
      "cell_type": "code",
      "source": [
        "25+36+9+4"
      ],
      "metadata": {
        "colab": {
          "base_uri": "https://localhost:8080/"
        },
        "id": "qOqZ4BGSnOpM",
        "outputId": "9ffe39f8-60e8-4ade-c490-24ced53aa95e"
      },
      "execution_count": null,
      "outputs": [
        {
          "output_type": "execute_result",
          "data": {
            "text/plain": [
              "74"
            ]
          },
          "metadata": {},
          "execution_count": 8
        }
      ]
    },
    {
      "cell_type": "code",
      "source": [
        "ltr=int(input(\"enter number of quantity\"))\n",
        "r=3\n",
        "h=345\n",
        "py=3.14\n",
        "\n",
        "volume=(py) * (r**2) * (h)/1000\n"
      ],
      "metadata": {
        "colab": {
          "base_uri": "https://localhost:8080/"
        },
        "id": "tcyBDsfjnPeZ",
        "outputId": "9ed27185-c2fe-41a8-e879-5225f848a3f2"
      },
      "execution_count": null,
      "outputs": [
        {
          "name": "stdout",
          "output_type": "stream",
          "text": [
            "enter number of quantity5\n"
          ]
        }
      ]
    },
    {
      "cell_type": "code",
      "source": [
        "volume*230"
      ],
      "metadata": {
        "colab": {
          "base_uri": "https://localhost:8080/"
        },
        "id": "a2Ouw4pfqkYv",
        "outputId": "42bb468c-7a4e-4a76-91dc-dc8ede33d419"
      },
      "execution_count": null,
      "outputs": [
        {
          "output_type": "execute_result",
          "data": {
            "text/plain": [
              "2242.431"
            ]
          },
          "metadata": {},
          "execution_count": 20
        }
      ]
    },
    {
      "cell_type": "code",
      "source": [
        "\n"
      ],
      "metadata": {
        "id": "pJIIGnpSrFQ-"
      },
      "execution_count": null,
      "outputs": []
    },
    {
      "cell_type": "code",
      "source": [
        "sum"
      ],
      "metadata": {
        "colab": {
          "base_uri": "https://localhost:8080/"
        },
        "id": "Up5XkI3KsZvV",
        "outputId": "abdc7b84-bbbf-4786-a59d-4f158e9b4d74"
      },
      "execution_count": null,
      "outputs": [
        {
          "output_type": "execute_result",
          "data": {
            "text/plain": [
              "200"
            ]
          },
          "metadata": {},
          "execution_count": 40
        }
      ]
    },
    {
      "cell_type": "code",
      "source": [
        "14**2+12**2+10**2+8**2+6**2+4**2+2**2"
      ],
      "metadata": {
        "colab": {
          "base_uri": "https://localhost:8080/"
        },
        "id": "i-NawKpyuy1k",
        "outputId": "09c97288-9359-402e-dfd5-08e2f11a0921"
      },
      "execution_count": null,
      "outputs": [
        {
          "output_type": "execute_result",
          "data": {
            "text/plain": [
              "560"
            ]
          },
          "metadata": {},
          "execution_count": 33
        }
      ]
    },
    {
      "cell_type": "code",
      "source": [
        "a=6\n",
        "count=0\n",
        "if a==1:\n",
        "  print(\"prime number\")\n",
        "for i in range(2,a):\n",
        "  if a%i==0:\n",
        "    count=count+1\n",
        "\n",
        "if count > 0:\n",
        "  print(\"not prime\")\n",
        "else:\n",
        "  print(\"not prime\")"
      ],
      "metadata": {
        "colab": {
          "base_uri": "https://localhost:8080/"
        },
        "id": "cS3GGpQZvK_O",
        "outputId": "b1499298-693d-4776-cfb4-7bea3a686ff5"
      },
      "execution_count": null,
      "outputs": [
        {
          "output_type": "stream",
          "name": "stdout",
          "text": [
            "not prime\n"
          ]
        }
      ]
    },
    {
      "cell_type": "code",
      "source": [
        "sum=0\n",
        "for i in range(1,101):\n",
        "  if i%5==0:\n",
        "    print(i)\n",
        "    sum += i**2"
      ],
      "metadata": {
        "id": "rCVTtw5xyEBS",
        "colab": {
          "base_uri": "https://localhost:8080/"
        },
        "outputId": "aaaf08c2-845e-4b9e-cb8a-048545e4ab67"
      },
      "execution_count": null,
      "outputs": [
        {
          "output_type": "stream",
          "name": "stdout",
          "text": [
            "5\n",
            "10\n",
            "15\n",
            "20\n",
            "25\n",
            "30\n",
            "35\n",
            "40\n",
            "45\n",
            "50\n",
            "55\n",
            "60\n",
            "65\n",
            "70\n",
            "75\n",
            "80\n",
            "85\n",
            "90\n",
            "95\n",
            "100\n"
          ]
        }
      ]
    },
    {
      "cell_type": "code",
      "source": [
        "sum"
      ],
      "metadata": {
        "colab": {
          "base_uri": "https://localhost:8080/"
        },
        "id": "avamjkylhs2t",
        "outputId": "35776f56-3575-4a04-f189-3146b30450eb"
      },
      "execution_count": null,
      "outputs": [
        {
          "output_type": "execute_result",
          "data": {
            "text/plain": [
              "71750"
            ]
          },
          "metadata": {},
          "execution_count": 3
        }
      ]
    },
    {
      "cell_type": "code",
      "source": [
        "# Pattern"
      ],
      "metadata": {
        "id": "Zgn_sEMQkSVr"
      },
      "execution_count": null,
      "outputs": []
    },
    {
      "cell_type": "code",
      "source": [
        "for i in range(0,5):\n",
        "  for j in range(i):\n",
        "    print(\"*\",end=' ')\n",
        "  print()"
      ],
      "metadata": {
        "colab": {
          "base_uri": "https://localhost:8080/"
        },
        "id": "uqayEwzVh1OS",
        "outputId": "4a24a501-9fe3-47a9-821c-a79851b9d1fd"
      },
      "execution_count": null,
      "outputs": [
        {
          "output_type": "stream",
          "name": "stdout",
          "text": [
            "\n",
            "* \n",
            "* * \n",
            "* * * \n",
            "* * * * \n"
          ]
        }
      ]
    },
    {
      "cell_type": "code",
      "source": [
        "for i in range(1,5):\n",
        "  for j in range(5-i):\n",
        "    print(\"*\",end='')\n",
        "  print()"
      ],
      "metadata": {
        "colab": {
          "base_uri": "https://localhost:8080/"
        },
        "id": "EAL4YuAIkRqN",
        "outputId": "d7c5f4aa-8bdf-4313-dd7d-0e330a5f8ff5"
      },
      "execution_count": null,
      "outputs": [
        {
          "output_type": "stream",
          "name": "stdout",
          "text": [
            "****\n",
            "***\n",
            "**\n",
            "*\n"
          ]
        }
      ]
    },
    {
      "cell_type": "code",
      "source": [
        "for i in range(1,5):\n",
        "  for j in range(i):\n",
        "    print(\"*\",end='')\n",
        "  print()\n",
        "for i in range(1,4):\n",
        "  for j in range(4-i):\n",
        "    print(\"*\",end='')\n",
        "  print()\n"
      ],
      "metadata": {
        "colab": {
          "base_uri": "https://localhost:8080/"
        },
        "id": "UTCAsYk9kQ6u",
        "outputId": "611a8c02-31fd-46d2-dc5e-1ac20e4cf5ba"
      },
      "execution_count": null,
      "outputs": [
        {
          "output_type": "stream",
          "name": "stdout",
          "text": [
            "*\n",
            "**\n",
            "***\n",
            "****\n",
            "***\n",
            "**\n",
            "*\n"
          ]
        }
      ]
    },
    {
      "cell_type": "code",
      "source": [
        "for i in range(1,5):\n",
        "  for j in range(4-i):\n",
        "    print(\" \",end=' ')\n",
        "  for j in range(i):\n",
        "    print(\"*\",end=' ')\n",
        "  print()\n"
      ],
      "metadata": {
        "colab": {
          "base_uri": "https://localhost:8080/"
        },
        "id": "qP6Ytuqvj82K",
        "outputId": "afae0fbb-08e9-4da9-ba6e-299bf5530bb3"
      },
      "execution_count": null,
      "outputs": [
        {
          "output_type": "stream",
          "name": "stdout",
          "text": [
            "      * \n",
            "    * * \n",
            "  * * * \n",
            "* * * * \n"
          ]
        }
      ]
    },
    {
      "cell_type": "code",
      "source": [
        "for i in range(1,5):\n",
        "  for j in range(1,i+1):\n",
        "    print(\" \",end=' ')\n",
        "  for j in range(5-i):\n",
        "    print(\"*\",end=' ')\n",
        "  print()\n"
      ],
      "metadata": {
        "colab": {
          "base_uri": "https://localhost:8080/"
        },
        "id": "oyE8C_4UpSyX",
        "outputId": "be725728-26db-4e08-e24b-9740cc1b180f"
      },
      "execution_count": null,
      "outputs": [
        {
          "output_type": "stream",
          "name": "stdout",
          "text": [
            "  * * * * \n",
            "    * * * \n",
            "      * * \n",
            "        * \n"
          ]
        }
      ]
    },
    {
      "cell_type": "code",
      "source": [
        "n=int(input(\"enter rows Number \"))\n",
        "for i in range(1,n+1):\n",
        "\n",
        "  if i==1 or i == 2 or i==max(range(1,n+1)):\n",
        "    for j in range(1,i+1):\n",
        "      print(\"*\",end=\"\")\n",
        "  if i==3:\n",
        "    for a in range(1):\n",
        "      print(\"*\",end=\"\")\n",
        "    for b in range(1):\n",
        "      print(\"_\",end=\"\")\n",
        "    for c in range(1):\n",
        "      print(\"*\",end=\"\")\n",
        "\n",
        "  if i==4:\n",
        "    for a in range(1):\n",
        "      print(\"*\",end=\"\")\n",
        "    for b in range(2):\n",
        "      print(\"_\",end=\"\")\n",
        "    for c in range(1):\n",
        "      print(\"*\",end=\"\")\n",
        "\n",
        "    pass\n",
        "  print()"
      ],
      "metadata": {
        "colab": {
          "base_uri": "https://localhost:8080/"
        },
        "id": "RYFh4CrUtePE",
        "outputId": "b45d0c01-fa10-4c6d-9b91-ac28ec49eac4"
      },
      "execution_count": null,
      "outputs": [
        {
          "output_type": "stream",
          "name": "stdout",
          "text": [
            "enter rows Number 5\n",
            "*\n",
            "**\n",
            "*_*\n",
            "*__*\n",
            "*****\n"
          ]
        }
      ]
    },
    {
      "cell_type": "code",
      "source": [
        "min(range(5))"
      ],
      "metadata": {
        "colab": {
          "base_uri": "https://localhost:8080/"
        },
        "id": "WD1H46xS0U3f",
        "outputId": "89749563-8323-41ec-f0b9-10de0772c462"
      },
      "execution_count": null,
      "outputs": [
        {
          "output_type": "execute_result",
          "data": {
            "text/plain": [
              "0"
            ]
          },
          "metadata": {},
          "execution_count": 58
        }
      ]
    },
    {
      "cell_type": "code",
      "source": [
        "#  *\n",
        "#  **\n",
        "#  *_*\n",
        "#  *__*\n",
        "#  *****\n"
      ],
      "metadata": {
        "id": "yUQgCuOQ1Jfu"
      },
      "execution_count": null,
      "outputs": []
    },
    {
      "cell_type": "code",
      "source": [
        "for i in range(1,6):\n",
        "  for j in range(1,i+1):\n",
        "    if j==1 or j==i or i==5:\n",
        "      print(\"*\",end=\"\")\n",
        "    else:\n",
        "      print(\" \",end=\"\")\n",
        "  print()"
      ],
      "metadata": {
        "colab": {
          "base_uri": "https://localhost:8080/"
        },
        "id": "BR7eTmYN5gdh",
        "outputId": "4b671ee5-1585-4f9f-be38-3b1a1055d889"
      },
      "execution_count": null,
      "outputs": [
        {
          "output_type": "stream",
          "name": "stdout",
          "text": [
            "*\n",
            "**\n",
            "* *\n",
            "*  *\n",
            "*****\n"
          ]
        }
      ]
    },
    {
      "cell_type": "code",
      "source": [
        "for i in range(1,6):\n",
        "  for k in range(6-i):\n",
        "    print(\" \",end=\"\")\n",
        "  for j in range(1,i+1):\n",
        "    if j==1 or j==i or i==5:\n",
        "      print(\"*\",end=\"\")\n",
        "    else:\n",
        "      print(\" \",end=\"\")\n",
        "  print()"
      ],
      "metadata": {
        "colab": {
          "base_uri": "https://localhost:8080/"
        },
        "id": "muQXsrCE52yL",
        "outputId": "d048ff9e-8f0a-4ba3-bedd-8cfb28e68a57"
      },
      "execution_count": null,
      "outputs": [
        {
          "output_type": "stream",
          "name": "stdout",
          "text": [
            "     *\n",
            "    **\n",
            "   * *\n",
            "  *  *\n",
            " *****\n"
          ]
        }
      ]
    },
    {
      "cell_type": "code",
      "source": [
        "for i in range(1,5):\n",
        "  for j in range(4-i):\n",
        "    print(\" \",end='')\n",
        "  for j in range((i*2-1)):\n",
        "    print(\"*\",end='')\n",
        "  print()\n"
      ],
      "metadata": {
        "colab": {
          "base_uri": "https://localhost:8080/"
        },
        "id": "PzC8CTpz6YVN",
        "outputId": "c50cc5e9-ab7a-4d45-ff09-c1bb91ca8670"
      },
      "execution_count": null,
      "outputs": [
        {
          "output_type": "stream",
          "name": "stdout",
          "text": [
            "   *\n",
            "  ***\n",
            " *****\n",
            "*******\n"
          ]
        }
      ]
    },
    {
      "cell_type": "code",
      "source": [
        "#    * * * * *\n",
        "#      * * *\n",
        "#        *\n",
        "\n",
        "\n",
        "n=4\n",
        "for i in range(1,n):\n",
        "  for j in range(i):\n",
        "    print(\" \",end='')\n",
        "  for j in range(((n-i)*2-1)):\n",
        "    print(\"*\",end='')\n",
        "  print()\n"
      ],
      "metadata": {
        "id": "UYl6wMNh9_VZ",
        "colab": {
          "base_uri": "https://localhost:8080/"
        },
        "outputId": "8d0bd3c6-d3e7-4150-c737-3233c5907dfa"
      },
      "execution_count": 2,
      "outputs": [
        {
          "output_type": "stream",
          "name": "stdout",
          "text": [
            " *****\n",
            "  ***\n",
            "   *\n"
          ]
        }
      ]
    },
    {
      "cell_type": "code",
      "source": [
        "#    *\n",
        "#   ***\n",
        "#  *****\n",
        "#   ***\n",
        "#    *\n",
        "\n",
        "\n",
        "n=4\n",
        "for i in range(1,n+1):\n",
        "  for k in range(n-i):\n",
        "    print(\" \",end=\" \")\n",
        "  for j in range(i*2-1):\n",
        "    print(\"*\",end=\" \")\n",
        "  print()\n",
        "\n",
        "\n",
        "for i in range(1,n+1):\n",
        "  for x in range(i):\n",
        "    print(\" \",end=\" \")\n",
        "  for y in range((n-i)*2-1):\n",
        "    print(\"*\",end=\" \")\n",
        "  print()\n",
        "\n",
        ""
      ],
      "metadata": {
        "colab": {
          "base_uri": "https://localhost:8080/"
        },
        "id": "69oZ8lRhkckR",
        "outputId": "442a7886-e9b5-4aa3-ce59-86ef90cf0417"
      },
      "execution_count": 12,
      "outputs": [
        {
          "output_type": "stream",
          "name": "stdout",
          "text": [
            "      * \n",
            "    * * * \n",
            "  * * * * * \n",
            "* * * * * * * \n",
            "  * * * * * \n",
            "    * * * \n",
            "      * \n",
            "        \n"
          ]
        }
      ]
    },
    {
      "cell_type": "code",
      "source": [
        "#  *\n",
        "#    *\n",
        "#      *\n",
        "#        *\n",
        "#          *\n",
        "#            *\n",
        "\n",
        "\n",
        "\n",
        "n=6\n",
        "for i in range(1,n+1):\n",
        "  for k in range(1,i):\n",
        "    print(\" \",end=\" \")\n",
        "  for l in  range(1):\n",
        "    print(\"*\",end=\" \")\n",
        "  print()"
      ],
      "metadata": {
        "colab": {
          "base_uri": "https://localhost:8080/"
        },
        "id": "_A4GaZHzlJNx",
        "outputId": "a7933bc5-a63a-4bf0-dceb-3a04944e9ed3"
      },
      "execution_count": 14,
      "outputs": [
        {
          "output_type": "stream",
          "name": "stdout",
          "text": [
            "* \n",
            "  * \n",
            "    * \n",
            "      * \n",
            "        * \n",
            "          * \n"
          ]
        }
      ]
    },
    {
      "cell_type": "code",
      "source": [
        "#                *\n",
        "#              *\n",
        "#            *\n",
        "#          *\n",
        "#        *\n",
        "#      *\n",
        "\n",
        "\n",
        "\n",
        "n=6\n",
        "for i in range(1,n+1):\n",
        "  for k in range(n-i):\n",
        "    print(\" \",end=\" \")\n",
        "  for l in  range(1):\n",
        "    print(\"*\",end=\" \")\n",
        "  print()"
      ],
      "metadata": {
        "colab": {
          "base_uri": "https://localhost:8080/"
        },
        "id": "WoxIjXSsm0dg",
        "outputId": "96cd6b31-fa28-419c-c643-44775dfbdd1c"
      },
      "execution_count": 15,
      "outputs": [
        {
          "output_type": "stream",
          "name": "stdout",
          "text": [
            "          * \n",
            "        * \n",
            "      * \n",
            "    * \n",
            "  * \n",
            "* \n"
          ]
        }
      ]
    },
    {
      "cell_type": "code",
      "source": [
        "#    *            *\n",
        "#      *        *\n",
        "#        *    *\n",
        "#          *\n",
        "#        *   *\n",
        "#      *       *\n",
        "#    *           *\n",
        "\n",
        "\n",
        "n=5\n",
        "\n",
        "for i in range(1,n+1):\n",
        "  print(i,end=\"\")\n",
        "  for j in range(1,i):\n",
        "    print(\" \",end=\"\")\n",
        "  for k in range(6-i):\n",
        "    if (i == 3 and k == 1) :\n",
        "      print(\" \",end=\" \")\n",
        "    elif ((i == 2 and k == 1 )):\n",
        "      print(\" \",end=\" \")\n",
        "    elif ((i == 2 and k == 2 )):\n",
        "      print(\" \",end=\" \")\n",
        "    elif ((i == 1 and k == 1 )):\n",
        "      print(\" \",end=\" \")\n",
        "    elif ((i == 1 and k == 2 )):\n",
        "      print(\" \",end=\" \")\n",
        "    elif ((i == 1 and k == 3 )):\n",
        "      print(\" \",end=\" \")\n",
        "    else:\n",
        "      print(\"*\",end=\" \")\n",
        "  print()\n",
        "\n",
        "\n",
        "for i in range(1,n+1):\n",
        "  print(i,end=\"\")\n",
        "  for j in range(n-i):\n",
        "    print(\" \",end=\"\")\n",
        "  for k in range(i):\n",
        "    if (i == 3 and k == 1) :\n",
        "      print(\" \",end=\" \")\n",
        "    elif ((i == 4 and k == 1 )):\n",
        "      print(\" \",end=\" \")\n",
        "    elif ((i == 4 and k == 2 )):\n",
        "      print(\" \",end=\" \")\n",
        "    elif ((i == 5 and k == 1 )):\n",
        "      print(\" \",end=\" \")\n",
        "    elif ((i == 5 and k == 2 )):\n",
        "      print(\" \",end=\" \")\n",
        "    elif ((i == 5 and k == 3 )):\n",
        "      print(\" \",end=\" \")\n",
        "    else:\n",
        "      print(\"*\",end=\" \")\n",
        "  print()"
      ],
      "metadata": {
        "colab": {
          "base_uri": "https://localhost:8080/"
        },
        "id": "OoWqXOB6nfUb",
        "outputId": "56407b39-d3ab-4169-8c93-37bd25ecd7e4"
      },
      "execution_count": 68,
      "outputs": [
        {
          "output_type": "stream",
          "name": "stdout",
          "text": [
            "1*       * \n",
            "2 *     * \n",
            "3  *   * \n",
            "4   * * \n",
            "5    * \n",
            "1    * \n",
            "2   * * \n",
            "3  *   * \n",
            "4 *     * \n",
            "5*       * \n"
          ]
        }
      ]
    },
    {
      "cell_type": "code",
      "source": [],
      "metadata": {
        "id": "4ZhgzfBMoUm9"
      },
      "execution_count": 68,
      "outputs": []
    },
    {
      "cell_type": "code",
      "source": [
        "  #        * * * *\n",
        "  #       *     *\n",
        "  #      *     *\n",
        "  #     * * * *\n",
        "\n",
        "\n",
        "  n=5\n",
        "  for i in range(1,5):\n",
        "    for k in range(4-i):\n",
        "      print(\" \",end=\" \")\n",
        "    for j in range(1,5):\n",
        "      if i==2 and j==2:\n",
        "        print(\" \",end=\" \")\n",
        "      elif i==2 and j==3:\n",
        "        print(\" \",end=\" \")\n",
        "      elif i==3 and j==2:\n",
        "        print(\" \",end=\" \")\n",
        "      elif i==3 and j==3:\n",
        "        print(\" \",end=\" \")\n",
        "      else:\n",
        "         print(\"*\",end=\" \")\n",
        "    print()"
      ],
      "metadata": {
        "colab": {
          "base_uri": "https://localhost:8080/"
        },
        "id": "ivpjiHgCt8R7",
        "outputId": "357fe020-a71d-4324-ef97-3a976cd7e5e7"
      },
      "execution_count": 75,
      "outputs": [
        {
          "output_type": "stream",
          "name": "stdout",
          "text": [
            "      * * * * \n",
            "    *     * \n",
            "  *     * \n",
            "* * * * \n"
          ]
        }
      ]
    },
    {
      "cell_type": "code",
      "source": [
        "#     *\n",
        "#    * *\n",
        "#   *   *\n",
        "#  *     *\n",
        "# *       *\n",
        "# *       *\n",
        "#  *     *\n",
        "#   *   *\n",
        "#    * *\n",
        "#     *\n",
        "\n",
        "\n",
        "\n",
        "n=5\n",
        "\n",
        "\n",
        "for i in range(1,n+1):\n",
        "  for j in range(n-i):\n",
        "    print(\" \",end=\"\")\n",
        "  for k in range(i):\n",
        "    if (i == 3 and k == 1) :\n",
        "      print(\" \",end=\" \")\n",
        "    elif ((i == 4 and k == 1 )):\n",
        "      print(\" \",end=\" \")\n",
        "    elif ((i == 4 and k == 2 )):\n",
        "      print(\" \",end=\" \")\n",
        "    elif ((i == 5 and k == 1 )):\n",
        "      print(\" \",end=\" \")\n",
        "    elif ((i == 5 and k == 2 )):\n",
        "      print(\" \",end=\" \")\n",
        "    elif ((i == 5 and k == 3 )):\n",
        "      print(\" \",end=\" \")\n",
        "    else:\n",
        "      print(\"*\",end=\" \")\n",
        "  print()\n",
        "\n",
        "\n",
        "for i in range(1,n+1):\n",
        "  for j in range(1,i):\n",
        "    print(\" \",end=\"\")\n",
        "  for k in range(6-i):\n",
        "    if (i == 3 and k == 1) :\n",
        "      print(\" \",end=\" \")\n",
        "    elif ((i == 2 and k == 1 )):\n",
        "      print(\" \",end=\" \")\n",
        "    elif ((i == 2 and k == 2 )):\n",
        "      print(\" \",end=\" \")\n",
        "    elif ((i == 1 and k == 1 )):\n",
        "      print(\" \",end=\" \")\n",
        "    elif ((i == 1 and k == 2 )):\n",
        "      print(\" \",end=\" \")\n",
        "    elif ((i == 1 and k == 3 )):\n",
        "      print(\" \",end=\" \")\n",
        "    else:\n",
        "      print(\"*\",end=\" \")\n",
        "  print()"
      ],
      "metadata": {
        "colab": {
          "base_uri": "https://localhost:8080/"
        },
        "id": "VxbhK7ZFwi1s",
        "outputId": "0d1ef32c-7926-4d08-a6d3-6f4d5d49f0fb"
      },
      "execution_count": 78,
      "outputs": [
        {
          "output_type": "stream",
          "name": "stdout",
          "text": [
            "    * \n",
            "   * * \n",
            "  *   * \n",
            " *     * \n",
            "*       * \n",
            "*       * \n",
            " *     * \n",
            "  *   * \n",
            "   * * \n",
            "    * \n"
          ]
        }
      ]
    },
    {
      "cell_type": "code",
      "source": [
        "#      * * * * *\n",
        "#      *\n",
        "#      * * *\n",
        "#      *\n",
        "#      * * * * *\n",
        "\n",
        "n=6\n",
        "for i in range(1,n):\n",
        "  if i==1 or i==5:\n",
        "    for i in range(1,n):\n",
        "      print(\"*\",end=\" \")\n",
        "  elif i==3:\n",
        "    for i in range(1,4):\n",
        "      print(\"*\",end=\" \")\n",
        "  else:\n",
        "    print(\"*\",end=\" \")\n",
        "  print()\n"
      ],
      "metadata": {
        "colab": {
          "base_uri": "https://localhost:8080/"
        },
        "id": "QpAlsMQPxrPx",
        "outputId": "fa442fc9-a577-4c6e-c2e0-1e4f8f505726"
      },
      "execution_count": 85,
      "outputs": [
        {
          "output_type": "stream",
          "name": "stdout",
          "text": [
            "* * * * * \n",
            "* \n",
            "* * * \n",
            "* \n",
            "* * * * * \n"
          ]
        }
      ]
    },
    {
      "cell_type": "code",
      "source": [],
      "metadata": {
        "id": "eYIYES9pyyAw"
      },
      "execution_count": null,
      "outputs": []
    }
  ]
}